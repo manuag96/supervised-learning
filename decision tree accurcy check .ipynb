{
 "cells": [
  {
   "cell_type": "code",
   "execution_count": 6,
   "metadata": {},
   "outputs": [
    {
     "name": "stdout",
     "output_type": "stream",
     "text": [
      "------------------------------------DECISION TREE---------------------------------------\n",
      "enter test size: .1\n",
      "l1 : [0.1]\n",
      "trained output :  [1 2 0 2 0 1 2 2 2 0 2 2 0 1 0]\n",
      "actual output :  [1 2 0 2 0 1 2 2 2 0 2 2 0 1 0]\n",
      "accuracy check : 1.0\n",
      "l2 : [1.0]\n",
      "enter test size: .2\n",
      "l1 : [0.1, 0.2]\n",
      "trained output :  [2 0 0 0 2 2 2 1 1 0 1 2 2 2 1 0 0 2 2 2 0 1 2 0 0 1 2 2 0 1]\n",
      "actual output :  [2 0 0 0 1 2 2 1 1 0 1 1 1 1 1 0 0 2 2 2 0 1 2 0 0 1 2 2 0 1]\n",
      "accuracy check : 0.8666666666666667\n",
      "l2 : [1.0, 0.8666666666666667]\n",
      "enter test size: .3\n",
      "l1 : [0.1, 0.2, 0.3]\n",
      "trained output :  [2 1 1 0 0 1 2 0 2 2 0 2 0 1 2 2 0 2 0 2 1 1 1 1 1 2 1 2 0 2 2 1 0 0 2 0 1\n",
      " 1 0 0 2 2 2 0 1]\n",
      "actual output :  [2 1 1 0 0 1 1 0 2 2 0 1 0 1 2 2 0 2 0 2 1 1 1 1 1 1 1 2 0 2 2 1 0 0 1 0 1\n",
      " 1 0 0 2 2 2 0 1]\n",
      "accuracy check : 0.9111111111111111\n",
      "l2 : [1.0, 0.8666666666666667, 0.9111111111111111]\n",
      "enter test size: .5\n",
      "l1 : [0.1, 0.2, 0.3, 0.5]\n",
      "trained output :  [2 1 1 0 0 2 1 0 0 0 2 1 2 1 1 0 1 0 1 1 2 1 2 1 0 2 0 2 1 2 1 0 0 0 1 1 1\n",
      " 2 2 0 2 2 1 1 1 2 0 1 1 2 0 1 2 2 0 0 0 1 1 2 2 1 0 0 1 1 1 2 2 1 2 2 0 0\n",
      " 0]\n",
      "actual output :  [2 1 1 0 0 2 1 0 0 0 2 1 2 1 1 0 1 0 2 1 2 2 2 1 0 2 0 2 1 2 1 0 0 0 1 1 1\n",
      " 2 2 0 2 2 1 1 1 2 0 1 1 2 0 1 2 2 0 0 0 1 1 1 2 1 0 0 1 1 1 2 2 1 2 2 0 0\n",
      " 0]\n",
      "accuracy check : 0.96\n",
      "l2 : [1.0, 0.8666666666666667, 0.9111111111111111, 0.96]\n",
      "enter test size: .7\n",
      "l1 : [0.1, 0.2, 0.3, 0.5, 0.7]\n",
      "trained output :  [2 1 1 2 1 2 0 2 1 2 2 2 0 1 2 0 2 1 2 2 0 1 1 1 1 2 2 2 2 1 2 0 2 2 0 1 1\n",
      " 1 1 0 1 0 0 1 1 0 2 2 1 0 2 0 1 0 0 0 2 2 0 1 0 2 0 1 1 2 1 2 2 0 2 2 1 2\n",
      " 1 0 2 2 0 0 0 0 0 1 2 1 0 2 0 2 1 2 0 0 2 2 2 1 1 0 0 0 2 0 0]\n",
      "actual output :  [2 1 1 2 1 2 0 2 1 1 2 2 0 1 2 0 1 1 2 2 0 1 1 1 1 2 1 2 2 1 2 0 2 2 0 1 1\n",
      " 1 1 0 1 0 0 1 1 0 2 2 1 0 2 0 2 0 0 0 1 2 0 1 0 2 0 1 1 2 1 2 1 0 2 2 1 2\n",
      " 1 0 2 2 0 0 0 0 0 1 2 1 0 2 0 2 1 2 0 0 2 2 2 1 1 0 0 0 2 0 0]\n",
      "accuracy check : 0.9428571428571428\n",
      "l2 : [1.0, 0.8666666666666667, 0.9111111111111111, 0.96, 0.9428571428571428]\n"
     ]
    },
    {
     "data": {
      "image/png": "[encoded data removed]",
      "text/plain": [
       "<Figure size 432x288 with 1 Axes>"
      ]
     },
     "metadata": {},
     "output_type": "display_data"
    }
   ],
   "source": [
    "from sklearn.datasets import load_iris\n",
    "#for splitting the test data and train data\n",
    "from sklearn.model_selection import train_test_split\n",
    "# calling decision tree \n",
    "from sklearn import tree\n",
    "#for checking % of accuracy \n",
    "from sklearn.metrics import accuracy_score\n",
    "#for plotting graph \n",
    "import matplotlib.pyplot as mat\n",
    "\n",
    "print (\"------------------------------------DECISION TREE---------------------------------------\")\n",
    "iris=load_iris()\n",
    "\n",
    "l1=[]   # list to store test size\n",
    "l2=[]   # list to store accuracy %\n",
    "\n",
    "for i in range (0,5):\n",
    "    p=float(input(\"enter test size: \"))\n",
    "    \n",
    "    l1.append(p)   \n",
    "    print('l1 :',l1)\n",
    " \n",
    "\n",
    "\n",
    "    x,y,z,a=train_test_split(iris.data,iris.target,test_size=p)\n",
    "    \"\"\"\n",
    "    here x=train_iris(contains 90% of data)\n",
    "     y=test_iris(contais remaining 10% of data)\n",
    "     z=tain_target(contains 90% of target)\n",
    "     a=test_target(contais remaining 10% of target)\"\"\"\n",
    "     \n",
    "# calling decision tree\n",
    "    clf= tree.DecisionTreeClassifier()\n",
    "#now training the data and target with decision \n",
    "    trained=clf.fit(x,z)\n",
    "    output=trained.predict(y)\n",
    "    print(\"trained output : \",output)\n",
    "    \n",
    "    print(\"actual output : \",a)\n",
    "    \n",
    "    check_pct=accuracy_score(a,output)\n",
    "    print(\"accuracy check :\",check_pct)\n",
    "   \n",
    "    l2.append(check_pct)   \n",
    "    print('l2 :',l2)\n",
    "    \n",
    "mat.xlabel(\"test size\")\n",
    "mat.ylabel(\"accuracy score\")\n",
    "mat.grid(color='y')\n",
    "mat.scatter(l1,l2)\n",
    "mat.show()\n",
    "\n",
    "#to make decision tree of given data\n",
    "tree.export_graphviz(clf, out_file=\"decision_tree.dot\", max_depth=6, feature_names=iris.feature_names, class_names=iris.target_names, label='all', filled=True, node_ids=True, rounded=True)\n",
    "\n"
   ]
  },
  {
   "cell_type": "code",
   "execution_count": null,
   "metadata": {},
   "outputs": [],
   "source": []
  },
  {
   "cell_type": "code",
   "execution_count": null,
   "metadata": {},
   "outputs": [],
   "source": []
  },
  {
   "cell_type": "code",
   "execution_count": null,
   "metadata": {},
   "outputs": [],
   "source": []
  },
  {
   "cell_type": "code",
   "execution_count": null,
   "metadata": {},
   "outputs": [],
   "source": []
  }
 ],
 "metadata": {
  "kernelspec": {
   "display_name": "Python 3",
   "language": "python",
   "name": "python3"
  },
  "language_info": {
   "codemirror_mode": {
    "name": "ipython",
    "version": 3
   },
   "file_extension": ".py",
   "mimetype": "text/x-python",
   "name": "python",
   "nbconvert_exporter": "python",
   "pygments_lexer": "ipython3",
   "version": "3.5.2"
  }
 },
 "nbformat": 4,
 "nbformat_minor": 2
}
